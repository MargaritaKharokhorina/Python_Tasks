{
  "nbformat": 4,
  "nbformat_minor": 0,
  "metadata": {
    "colab": {
      "provenance": [],
      "authorship_tag": "ABX9TyP1fpC2CEfSLw6Oa33jFYho",
      "include_colab_link": true
    },
    "kernelspec": {
      "name": "python3",
      "display_name": "Python 3"
    },
    "language_info": {
      "name": "python"
    }
  },
  "cells": [
    {
      "cell_type": "markdown",
      "metadata": {
        "id": "view-in-github",
        "colab_type": "text"
      },
      "source": [
        "<a href=\"https://colab.research.google.com/github/MargaritaKharokhorina/Python_Tasks/blob/main/Homework_GoogleColab.ipynb\" target=\"_parent\"><img src=\"https://colab.research.google.com/assets/colab-badge.svg\" alt=\"Open In Colab\"/></a>"
      ]
    },
    {
      "cell_type": "markdown",
      "source": [
        "# Задача 40"
      ],
      "metadata": {
        "id": "F-YPxLEB6LF3"
      }
    },
    {
      "cell_type": "markdown",
      "source": [
        "\n",
        "\n",
        "* Работать с файлом california_housing_train.csv, который находится в папке\n",
        "sample_data. \n",
        "* Определить среднюю стоимость дома, где количество людей от 0 до 500 (population)\n",
        "\n"
      ],
      "metadata": {
        "id": "zi-A2bR66Qv_"
      }
    },
    {
      "cell_type": "code",
      "source": [
        "import pandas as pd\n",
        "\n",
        "#читаем\n",
        "df = pd.read_csv('sample_data/california_housing_train.csv')"
      ],
      "metadata": {
        "id": "jjUdGBHS6fdw"
      },
      "execution_count": 1,
      "outputs": []
    },
    {
      "cell_type": "code",
      "execution_count": 6,
      "metadata": {
        "colab": {
          "base_uri": "https://localhost:8080/"
        },
        "id": "ZFi38TXX6G4w",
        "outputId": "2cd3e0fc-d9b6-4bdd-829d-dfd72427a500"
      },
      "outputs": [
        {
          "output_type": "execute_result",
          "data": {
            "text/plain": [
              "207300.91235294117"
            ]
          },
          "metadata": {},
          "execution_count": 6
        }
      ],
      "source": [
        "df[df['population'] >= 0 & (df['population'] <= 500)]['median_house_value'].mean() "
      ]
    },
    {
      "cell_type": "markdown",
      "source": [
        "# Задача 42"
      ],
      "metadata": {
        "id": "2U8fjCpq79bo"
      }
    },
    {
      "cell_type": "markdown",
      "source": [
        "\n",
        "\n",
        "* Узнать, какая максимальная households в зоне минимального значения population\n",
        "\n"
      ],
      "metadata": {
        "id": "0oFoa7Cr8BZF"
      }
    },
    {
      "cell_type": "code",
      "source": [
        "df[df['population'] == df['population'].min()]['households'].max()"
      ],
      "metadata": {
        "colab": {
          "base_uri": "https://localhost:8080/"
        },
        "id": "ADbCg-Hg8PcO",
        "outputId": "9587222e-f2b6-46b6-d12d-729534faaa2d"
      },
      "execution_count": 8,
      "outputs": [
        {
          "output_type": "execute_result",
          "data": {
            "text/plain": [
              "4.0"
            ]
          },
          "metadata": {},
          "execution_count": 8
        }
      ]
    }
  ]
}